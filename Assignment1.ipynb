{
 "cells": [
  {
   "cell_type": "code",
   "execution_count": 1,
   "metadata": {},
   "outputs": [
    {
     "name": "stdout",
     "output_type": "stream",
     "text": [
      "ntyp\n"
     ]
    }
   ],
   "source": [
    "def reverse(str): # Defining string  \n",
    " return str[::-1] #Returning the output \n",
    "x=(\"python\".replace('ho','')) #Replacing the character \n",
    "print(reverse(x))"
   ]
  },
  {
   "cell_type": "code",
   "execution_count": 9,
   "metadata": {},
   "outputs": [
    {
     "name": "stdout",
     "output_type": "stream",
     "text": [
      "Sum =  10\n",
      "Diff =  4\n",
      "Multiply =  21\n",
      "Division =  2.3333333333333335\n"
     ]
    }
   ],
   "source": [
    "a=7 #number1 \n",
    "b=3 #number2 \n",
    "print(\"Sum = \",a+b) #Adding of numbers \n",
    "print(\"Diff = \",a-b) #Difference between 2 numbers \n",
    "print(\"Multiply = \", a*b) #Multiplying of Numbers \n",
    "print(\"Division = \", a/b)#Division of numbera"
   ]
  },
  {
   "cell_type": "code",
   "execution_count": 8,
   "metadata": {},
   "outputs": [
    {
     "name": "stdout",
     "output_type": "stream",
     "text": [
      "I love playing with pythons\n"
     ]
    }
   ],
   "source": [
    "str=\"I love playing with python\"\n",
    "print(str.replace('python','pythons')) #Replacing one string with another"
   ]
  },
  {
   "cell_type": "code",
   "execution_count": 14,
   "metadata": {},
   "outputs": [
    {
     "name": "stdout",
     "output_type": "stream",
     "text": [
      "Your grade is A\n"
     ]
    }
   ],
   "source": [
    "sub1=60 \n",
    "sub2=30 \n",
    "total=sub1+sub2\n",
    "if(total>=90): \n",
    " print(\"Your grade is A\") \n",
    "elif(total>=70 and total<90): \n",
    " print(\"Your grade is B\") \n",
    "elif(total>=50 and total <70): \n",
    " print(\"Your grade is C\") \n",
    "else: \n",
    " print(\"Your grade is F\")"
   ]
  }
 ],
 "metadata": {
  "kernelspec": {
   "display_name": "Python 3",
   "language": "python",
   "name": "python3"
  },
  "language_info": {
   "codemirror_mode": {
    "name": "ipython",
    "version": 3
   },
   "file_extension": ".py",
   "mimetype": "text/x-python",
   "name": "python",
   "nbconvert_exporter": "python",
   "pygments_lexer": "ipython3",
   "version": "3.11.1"
  }
 },
 "nbformat": 4,
 "nbformat_minor": 2
}
